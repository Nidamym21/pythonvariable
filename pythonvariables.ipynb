{
 "cells": [
  {
   "cell_type": "markdown",
   "id": "4159ba3c-8487-439b-9bdb-cae38bdc022a",
   "metadata": {},
   "source": [
    "# Variables in Python\n",
    "\n"
   ]
  },
  {
   "cell_type": "markdown",
   "id": "35021afb-235e-4419-862d-831682e65325",
   "metadata": {},
   "source": [
    "# 1. Defining a Variable:\n",
    "*A variable in Python is a named memory location that stores data values.\n",
    "\n",
    "\n",
    "*It acts as a placeholder for information that Python can recall later in the coding process.\n",
    "\n",
    "*For example:  x = 20 ,Here 'x' is the variable, and 20 is the value assigned to it."
   ]
  },
  {
   "cell_type": "markdown",
   "id": "275dd180-bab4-48e0-8539-8254fe367703",
   "metadata": {},
   "source": [
    "## How to Create a Variable\n",
    "\n",
    "To create a variable in Python, you just need to choose a name and use the equal sign `=` to assign a value to it. For example:\n",
    "\n",
    "```python\n",
    "x = \"Apple\"\n",
    "y = 10\n",
    "\n",
    "print(x)  # This will print: Apple\n",
    "print(y)  # This will print: 10\n"
   ]
  },
  {
   "cell_type": "markdown",
   "id": "213aab26-a58b-485f-b905-9846e9c5b9a3",
   "metadata": {},
   "source": [
    "## Rules for Naming Variables\r\n",
    "\r\n",
    "1. Variable names must begin with a letter (a-z, A-Z) or an underscore `_`. They cannot start with a number.\r\n",
    "2. Only letters, numbers, and underscores are allowed in variable names. No spaces or special characters like `@`, `#`, or `!` are permitted.\r\n",
    "3. Variable names are case-sensitive, meaning `Age`, `age`, and `AGE` are treated as distinct variables.\r\n",
    "4. Python's reserved keywords cannot be used as variable names.\r\n",
    "5. Variable names cannot begin with a digit.\r\n"
   ]
  },
  {
   "cell_type": "markdown",
   "id": "25595861-6b7b-466d-9320-0c5dada2cbdd",
   "metadata": {},
   "source": [
    "## Valid Variables\n",
    "\n",
    "- A valid variable uses names that clearly describe the variable's purpose.\n",
    "- Start with a letter or an underscore (`_`).\n",
    "- Use only letters, numbers, and underscores—no spaces or special characters.\n",
    "\n",
    "### Example of Valid Variables\n",
    "\n",
    "```python\n",
    "book_title = \"The Great Gatsby\"\n",
    "pages_count = 180\n",
    "\n",
    "print(book_title)  # Output: The Great Gatsby\n",
    "print(pages_count) # Output: 180\n"
   ]
  },
  {
   "cell_type": "markdown",
   "id": "c2ba5326-0479-4907-8f25-054450c414c1",
   "metadata": {},
   "source": [
    "## Invalid Variable Names in Python\r\n",
    "\r\n",
    "In Python, invalid variable names include:\r\n",
    "\r\n",
    "- Names that start with a number (e.g., `1st_place`).\r\n",
    "- Names that contain spaces (e.g., `user name`).\r\n",
    "- Names that contain special characters (e.g., `total@amount`).\r\n",
    "- Names that use reserved keywords (e.g., `if`, `while`).\r\n",
    "- Names that use built-in function names (e.g., `print`).\r\n",
    "\r\n",
    "### Examples\r\n",
    "\r\n",
    "```python\r\n",
    "1st_place = 10  # Invalid: starts with a digit\r\n",
    "user name = \"Sam\"  # Invalid: contains a space\r\n",
    "total@amount = 50  # Invalid: contains a special character\r\n",
    "if = 100  # Invalid: uses a reserved keyword\r\n",
    "print = 75  # Invalid: uses a built-in function name\r\n"
   ]
  },
  {
   "cell_type": "markdown",
   "id": "2e1151ea-1a86-4248-9e45-1952ad95e72b",
   "metadata": {
    "jp-MarkdownHeadingCollapsed": true
   },
   "source": [
    "## Examples of Valid Variables\n",
    "\n",
    "Here are 20 examples of valid variable names in Python:\n",
    "\n",
    "```python\n",
    "user_name = \"Sam\"          # Valid: uses letters and underscore\n",
    "total_amount = 150         # Valid: uses letters and underscore\n",
    "item_list = [1, 2, 3]      # Valid: uses letters and underscore\n",
    "max_value = 100            # Valid: uses letters and underscore\n",
    "current_year = 2024        # Valid: uses letters and underscore\n",
    "student_id = 12345         # Valid: uses letters and underscore\n",
    "temperature_celsius = 22  # Valid: uses letters and underscore\n",
    "file_path = \"/path/to/file\"  # Valid: uses letters and underscore\n",
    "average_score = 85         # Valid: uses letters and underscore\n",
    "is_logged_in = True        # Valid: uses letters and underscore\n",
    "total_distance = 500       # Valid: uses letters and underscore\n",
    "user_age = 30              # Valid: uses letters and underscore\n",
    "account_balance = 1000     # Valid: uses letters and underscore\n",
    "order_date = \"2024-09-01\"  # Valid: uses letters and underscore\n",
    "email_address = \"example@example.com\"  # Valid: uses letters and underscore\n",
    "number_of_students = 25    # Valid: uses letters and underscore\n",
    "course_name = \"Business Analytics\"  # Valid: uses letters and underscore\n",
    "session_id = \"abc123\"      # Valid: uses letters and underscore\n",
    "product_price = 29.99      # Valid: uses letters and underscore\n",
    "stock_quantity = 150       # Valid: uses letters and underscore\n"
   ]
  },
  {
   "cell_type": "markdown",
   "id": "7870a4db-3406-4319-a2a1-dd6f5cd9a2d0",
   "metadata": {},
   "source": [
    "## Examples of Invalid Variables\n",
    "\n",
    "Here are 20 examples of invalid variable names in Python:\n",
    "\n",
    "```python\n",
    "1st_place = 10             # Invalid: starts with a digit\n",
    "user name = \"Sam\"          # Invalid: contains a space\n",
    "total@amount = 50          # Invalid: contains a special character\n",
    "if = 100                   # Invalid: uses a reserved keyword\n",
    "print = 75                 # Invalid: uses a built-in function name\n",
    "$amount = 5                # Invalid: contains a special character\n",
    "first-name = \"Alice\"       # Invalid: contains a special character (dash)\n",
    "user#name = \"Sam\"          # Invalid: contains a special character (hash)\n",
    "class = 20                 # Invalid: uses a reserved keyword\n",
    "while = 30                 # Invalid: uses a reserved keyword\n",
    "def = 40                   # Invalid: uses a reserved keyword\n",
    "total amount = 100         # Invalid: contains a space\n",
    "my variable = \"text\"       # Invalid: contains a space\n",
    "@price = 19.99             # Invalid: contains a special character (at)\n",
    "amount% = 50               # Invalid: contains a special character (percent)\n",
    "try = \"value\"              # Invalid: uses a reserved keyword\n",
    "print_value = 123          # Invalid: uses a built-in function name\n",
    "2nd_place = 20             # Invalid: starts with a digit\n",
    "for = \"loop\"               # Invalid: uses a reserved keyword\n",
    "import = \"module\"          # Invalid: uses a reserved keyword\n",
    "break = 15                 # Invalid: uses a reserved keyword\n"
   ]
  },
  {
   "cell_type": "code",
   "execution_count": null,
   "id": "b486f0ed-7afd-428d-99f4-66991e8f201f",
   "metadata": {},
   "outputs": [],
   "source": []
  }
 ],
 "metadata": {
  "kernelspec": {
   "display_name": "Python 3 (ipykernel)",
   "language": "python",
   "name": "python3"
  },
  "language_info": {
   "codemirror_mode": {
    "name": "ipython",
    "version": 3
   },
   "file_extension": ".py",
   "mimetype": "text/x-python",
   "name": "python",
   "nbconvert_exporter": "python",
   "pygments_lexer": "ipython3",
   "version": "3.12.4"
  }
 },
 "nbformat": 4,
 "nbformat_minor": 5
}
